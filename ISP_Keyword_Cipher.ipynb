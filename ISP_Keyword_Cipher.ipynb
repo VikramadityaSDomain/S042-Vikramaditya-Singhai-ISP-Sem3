{
  "cells": [
    {
      "cell_type": "markdown",
      "source": [
        "#Keyword Cipher"
      ],
      "metadata": {
        "id": "ZIs0ZC_d-GF3"
      }
    },
    {
      "cell_type": "code",
      "execution_count": 1,
      "metadata": {
        "colab": {
          "base_uri": "https://localhost:8080/"
        },
        "id": "hTTUmYNGrwzL",
        "outputId": "14bf0e83-6576-471f-8763-0752ef449329"
      },
      "outputs": [
        {
          "name": "stdout",
          "output_type": "stream",
          "text": [
            "Enter The Plain Message : VIKRAMADITYA\n",
            "Enter the keyword : QWERTYUIOPAS\n"
          ]
        }
      ],
      "source": [
        "message = input(\"Enter The Plain Message : \")\n",
        "keyword = input(\"Enter the keyword : \")\n",
        "ciphertext = \"\""
      ]
    },
    {
      "cell_type": "code",
      "execution_count": 2,
      "metadata": {
        "colab": {
          "base_uri": "https://localhost:8080/"
        },
        "id": "DXsMi1zwrnjx",
        "outputId": "f6437d98-5609-4ec8-e1d2-fec9cba872bb"
      },
      "outputs": [
        {
          "output_type": "stream",
          "name": "stdout",
          "text": [
            "['A', 'B', 'C', 'D', 'E', 'F', 'G', 'H', 'I', 'J', 'K', 'L', 'M', 'N', 'O', 'P', 'Q', 'R', 'S', 'T', 'U', 'V', 'W', 'X', 'Y', 'Z']\n"
          ]
        }
      ],
      "source": [
        "all_alphabets = []\n",
        "for i in range (65, 91):\n",
        "  all_alphabets.append(chr(i))\n",
        "print(all_alphabets)"
      ]
    },
    {
      "cell_type": "code",
      "execution_count": 3,
      "metadata": {
        "colab": {
          "base_uri": "https://localhost:8080/"
        },
        "id": "UW7RvW1LsiD9",
        "outputId": "0320ed60-94cb-442d-8488-270a1c584e78"
      },
      "outputs": [
        {
          "output_type": "stream",
          "name": "stdout",
          "text": [
            "['V', 'I', 'K', 'R', 'A', 'M', 'A', 'D', 'I', 'T', 'Y', 'A']\n"
          ]
        }
      ],
      "source": [
        "msg = []\n",
        "for i in message:\n",
        "  msg.append(i.upper())\n",
        "print(msg)"
      ]
    },
    {
      "cell_type": "code",
      "execution_count": 4,
      "metadata": {
        "id": "5SOkTZYTtY0_"
      },
      "outputs": [],
      "source": [
        "keyword1 = keyword.upper()"
      ]
    },
    {
      "cell_type": "code",
      "execution_count": 5,
      "metadata": {
        "id": "0E8q0wZPtk7z"
      },
      "outputs": [],
      "source": [
        "def duplicates(list):\n",
        "  key = []\n",
        "  for i in list:\n",
        "    if i not in key:\n",
        "      key.append(i)\n",
        "  return key"
      ]
    },
    {
      "cell_type": "code",
      "execution_count": 6,
      "metadata": {
        "colab": {
          "base_uri": "https://localhost:8080/"
        },
        "id": "coFyMiMevI3B",
        "outputId": "c62d0d29-daea-4b25-8d7a-2072a753e11c"
      },
      "outputs": [
        {
          "output_type": "stream",
          "name": "stdout",
          "text": [
            "keyword after removing duplicates :  ['Q', 'W', 'E', 'R', 'T', 'Y', 'U', 'I', 'O', 'P', 'A', 'S']\n",
            "encrypting text is :  ['Q', 'W', 'E', 'R', 'T', 'Y', 'U', 'I', 'O', 'P', 'A', 'S', 'B', 'C', 'D', 'F', 'G', 'H', 'J', 'K', 'L', 'M', 'N', 'V', 'X', 'Z']\n"
          ]
        }
      ],
      "source": [
        "keyword1 = duplicates(keyword1)\n",
        "print(\"keyword after removing duplicates : \", keyword1)\n",
        "encrypting = duplicates(keyword1 + all_alphabets)\n",
        "for i in encrypting:\n",
        "  if( i==' '):\n",
        "    encrypting.remove(' ')\n",
        "print(\"encrypting text is : \", encrypting)"
      ]
    },
    {
      "cell_type": "code",
      "execution_count": 7,
      "metadata": {
        "id": "yzHekEM3xuCG"
      },
      "outputs": [],
      "source": [
        "for i in range(len(msg)):\n",
        "  if(msg[i] != ' '):\n",
        "    ciphertext = ciphertext + encrypting[all_alphabets.index(msg[i])]\n",
        "  else:\n",
        "    ciphertext = ciphertext + ' '\n"
      ]
    },
    {
      "cell_type": "code",
      "execution_count": 8,
      "metadata": {
        "colab": {
          "base_uri": "https://localhost:8080/"
        },
        "id": "uxbwkVKhyw4O",
        "outputId": "ff2a3b8c-cf1e-4aa9-a359-0d2b8858bd6f"
      },
      "outputs": [
        {
          "output_type": "stream",
          "name": "stdout",
          "text": [
            "KEYWORD :::  QWERTYUIOPAS\n",
            "MESSAGE BEFORE CIPHERING :::  VIKRAMADITYA\n",
            "CIPHERED TEXT ::: MOAHQBQROKXQ\n"
          ]
        }
      ],
      "source": [
        "print(\"KEYWORD ::: \", keyword)\n",
        "print(\"MESSAGE BEFORE CIPHERING ::: \", message)\n",
        "print(\"CIPHERED TEXT :::\", ciphertext)\n"
      ]
    }
  ],
  "metadata": {
    "colab": {
      "collapsed_sections": [],
      "provenance": []
    },
    "kernelspec": {
      "display_name": "Python 3",
      "name": "python3"
    },
    "language_info": {
      "name": "python"
    }
  },
  "nbformat": 4,
  "nbformat_minor": 0
}