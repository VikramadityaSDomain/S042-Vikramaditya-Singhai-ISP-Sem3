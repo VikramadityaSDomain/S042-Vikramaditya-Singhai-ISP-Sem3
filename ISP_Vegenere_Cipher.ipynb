{
  "nbformat": 4,
  "nbformat_minor": 0,
  "metadata": {
    "colab": {
      "provenance": [],
      "collapsed_sections": []
    },
    "kernelspec": {
      "name": "python3",
      "display_name": "Python 3"
    },
    "language_info": {
      "name": "python"
    }
  },
  "cells": [
    {
      "cell_type": "markdown",
      "source": [
        "#Vegenere Cipher"
      ],
      "metadata": {
        "id": "8F1cuoFgpmAp"
      }
    },
    {
      "cell_type": "code",
      "execution_count": null,
      "metadata": {
        "id": "NHOgcrW_mTcD"
      },
      "outputs": [],
      "source": [
        "str1 = \"GEEKSFORGEEKS\"\n",
        "keyword = \"MAYUR\""
      ]
    },
    {
      "cell_type": "code",
      "source": [
        "def genkey(str1, key):\n",
        "  key = list(key)\n",
        "  if len(str1) == len(key):\n",
        "    return(key)\n",
        "  else:\n",
        "    for i in range(len(str1)- len(key)):\n",
        "      key.append(key[i%len(key)])\n",
        "  return(\"\". join(key))"
      ],
      "metadata": {
        "id": "uPZ0y3wEqrbJ"
      },
      "execution_count": null,
      "outputs": []
    },
    {
      "cell_type": "code",
      "source": [
        "key = genkey(str1, keyword)\n",
        "print(key)"
      ],
      "metadata": {
        "colab": {
          "base_uri": "https://localhost:8080/"
        },
        "id": "NqM9SwEPuOmH",
        "outputId": "6198fac6-8d07-4536-8c82-e1e308790d0b"
      },
      "execution_count": null,
      "outputs": [
        {
          "output_type": "stream",
          "name": "stdout",
          "text": [
            "MAYURMAYURMAY\n"
          ]
        }
      ]
    },
    {
      "cell_type": "code",
      "source": [
        "def encrypt_cipher(str1, key1):\n",
        "  cipher_text = []\n",
        "  for i in range(len(str1)):\n",
        "    x = ((ord(str1[i])+ord(key[i]))%26) + ord('A')\n",
        "    cipher_text.append(chr(x))\n",
        "  return(\"\".join(cipher_text))"
      ],
      "metadata": {
        "id": "xq5tj45Cp5uX"
      },
      "execution_count": null,
      "outputs": []
    },
    {
      "cell_type": "code",
      "source": [
        "print(\"OG MESSAGE : \", str1)\n",
        "print(\"KEYWORD : \", keyword)\n",
        "cipher_text = encrypt_cipher(str1, key)\n",
        "print(\"CIPHERTEXT : \", cipher_text)"
      ],
      "metadata": {
        "colab": {
          "base_uri": "https://localhost:8080/"
        },
        "id": "vXWY31xAzKy_",
        "outputId": "96ed8bef-5aa3-468a-d562-d65dafed32e2"
      },
      "execution_count": null,
      "outputs": [
        {
          "output_type": "stream",
          "name": "stdout",
          "text": [
            "OG MESSAGE :  GEEKSFORGEEKS\n",
            "KEYWORD :  MAYUR\n",
            "CIPHERTEXT :  SECEJROPAVQKQ\n"
          ]
        }
      ]
    },
    {
      "cell_type": "code",
      "source": [
        "def decrypt_cipher(cipher_text, keyword):\n",
        "  orig_text = []\n",
        "  for i in range(len(cipher_text)):\n",
        "    x = ((ord(cipher_text[i]) - ord(keyword[i]))%26) + ord('A')\n",
        "    orig_text.append(chr(x))\n",
        "  return(\"\".join(orig_text))"
      ],
      "metadata": {
        "id": "juDsuxv7zQly"
      },
      "execution_count": null,
      "outputs": []
    },
    {
      "cell_type": "code",
      "source": [
        "og = decrypt_cipher(cipher_text,key)"
      ],
      "metadata": {
        "id": "aBflcAMJ2Aob"
      },
      "execution_count": null,
      "outputs": []
    },
    {
      "cell_type": "code",
      "source": [
        "og"
      ],
      "metadata": {
        "colab": {
          "base_uri": "https://localhost:8080/",
          "height": 35
        },
        "id": "sPu5hjbq26zr",
        "outputId": "c02319e8-3ed2-46b5-d9bc-5540d88c6391"
      },
      "execution_count": null,
      "outputs": [
        {
          "output_type": "execute_result",
          "data": {
            "text/plain": [
              "'GEEKSFORGEEKS'"
            ],
            "application/vnd.google.colaboratory.intrinsic+json": {
              "type": "string"
            }
          },
          "metadata": {},
          "execution_count": 12
        }
      ]
    }
  ]
}