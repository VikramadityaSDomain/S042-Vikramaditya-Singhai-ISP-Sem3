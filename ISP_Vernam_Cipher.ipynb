{
  "nbformat": 4,
  "nbformat_minor": 0,
  "metadata": {
    "colab": {
      "provenance": []
    },
    "kernelspec": {
      "name": "python3",
      "display_name": "Python 3"
    },
    "language_info": {
      "name": "python"
    }
  },
  "cells": [
    {
      "cell_type": "markdown",
      "source": [
        "##ISP - Vernam Cipher"
      ],
      "metadata": {
        "id": "ncs5ZQaz_Vqw"
      }
    },
    {
      "cell_type": "code",
      "source": [
        "#STEP1 Getting Inputs\n",
        "plain_text=input(\"Enter the message: \")\n",
        "key=input(\"Enter the one time pad: \")\n",
        "cipher_text=''"
      ],
      "metadata": {
        "colab": {
          "base_uri": "https://localhost:8080/"
        },
        "id": "fTjyI5Yv_rLy",
        "outputId": "0fe3cd95-672d-4077-b4a2-ad46e527e758"
      },
      "execution_count": null,
      "outputs": [
        {
          "name": "stdout",
          "output_type": "stream",
          "text": [
            "Enter the message: Good Morning\n",
            "Enter the one time pad: Quantam King\n"
          ]
        }
      ]
    },
    {
      "cell_type": "code",
      "source": [
        "#STEP2 Data clean : Replacing space and converting to lower\n",
        "plain_text=plain_text.replace(\" \",\"\")\n",
        "key=key.replace(\" \",\"\")\n",
        "plain_text=plain_text.lower()\n",
        "key=key.lower()"
      ],
      "metadata": {
        "id": "7nfvaZfv_q9c"
      },
      "execution_count": null,
      "outputs": []
    },
    {
      "cell_type": "code",
      "source": [
        "#CHECKING IF LENGTHs ARE EQUAL\n",
        "if(len(plain_text)!=len(key)):\n",
        "        print(\"Lengths are different\")\n",
        "else:\n",
        "  print(\"Lenght EQuAL\")"
      ],
      "metadata": {
        "colab": {
          "base_uri": "https://localhost:8080/"
        },
        "id": "uM7AQYVzAOSp",
        "outputId": "cb91fcc9-6bc7-4c8a-c3ce-581c872a1750"
      },
      "execution_count": null,
      "outputs": [
        {
          "output_type": "stream",
          "name": "stdout",
          "text": [
            "Lenght EQuAL\n"
          ]
        }
      ]
    },
    {
      "cell_type": "code",
      "source": [
        "#LOGIC \n",
        "cipher_text=\"\"\n",
        "        \n",
        "# iterating through the length\n",
        "for i in range(len(plain_text)):\n",
        "    k1=ord(plain_text[i])-97 #GETTING INPUT ASCCI VALUE for lower\n",
        "    k2=ord(key[i])-97        #GETTING KEY ASCCI VALUE for lower\n",
        "    s=chr((k1+k2)%26+97)     # (k1 + k2)%26 for lower\n",
        "    cipher_text+=s           # Concatenate each otput\n",
        "print(\"Enrypted message is: \",cipher_text)"
      ],
      "metadata": {
        "colab": {
          "base_uri": "https://localhost:8080/"
        },
        "id": "dmqAWh7rAk0k",
        "outputId": "50c75bf0-09f3-414a-8fb7-cdb4b2531240"
      },
      "execution_count": null,
      "outputs": [
        {
          "output_type": "stream",
          "name": "stdout",
          "text": [
            "Enrypted message is:  wioqfodxqam\n"
          ]
        }
      ]
    },
    {
      "cell_type": "markdown",
      "source": [
        "# Final encrypted algo"
      ],
      "metadata": {
        "id": "gm0vTv2LvUgk"
      }
    },
    {
      "cell_type": "code",
      "source": [
        "# function to apply algo of vernam cipher\n",
        "def vernam(plain_text,key):\n",
        "\n",
        "    # convert into lower cases and remove spaces\n",
        "    \n",
        "    plain_text=plain_text.replace(\" \",\"\")\n",
        "    key=key.replace(\" \",\"\")\n",
        "    plain_text=plain_text.lower()\n",
        "    key=key.lower()\n",
        "    \n",
        "    # conditional statements\n",
        "    if(len(plain_text)!=len(key)):\n",
        "        print(\"Lengths are different\")\n",
        "        \n",
        "    else:\n",
        "        cipher_text=\"\"\n",
        "        # iterating through the length\n",
        "        for i in range(len(plain_text)):\n",
        "            k1=ord(plain_text[i])-97\n",
        "            k2=ord(key[i])-97\n",
        "            s=chr(((k1+k2))%26+97)\n",
        "            cipher_text+=s\n",
        "        print(\"Enrypted message is: \",cipher_text)\n",
        "\n",
        "\n",
        "plain_text=input(\"Enter the message: \")\n",
        "key=input(\"Enter the one time pad: \")\n",
        "vernam(plain_text,key)"
      ],
      "metadata": {
        "colab": {
          "base_uri": "https://localhost:8080/"
        },
        "id": "iOgRm93n-b-W",
        "outputId": "ae8914a8-8300-4efd-81f1-e1b1d9f3a1ab"
      },
      "execution_count": null,
      "outputs": [
        {
          "output_type": "stream",
          "name": "stdout",
          "text": [
            "Enter the message: Popclaw\n",
            "Enter the one time pad: Axelrod\n",
            "Enrypted message is:  pltncoz\n"
          ]
        }
      ]
    },
    {
      "cell_type": "markdown",
      "source": [
        "# Final De-crypted algo"
      ],
      "metadata": {
        "id": "gHh0r59oI-Rr"
      }
    },
    {
      "cell_type": "code",
      "source": [
        "# function to apply algo of vernam cipher\n",
        "def vernam(plain_text,key):\n",
        "\n",
        "    # convert into lower cases and remove spaces\n",
        "    \n",
        "    plain_text=plain_text.replace(\" \",\"\")\n",
        "    key=key.replace(\" \",\"\")\n",
        "    plain_text=plain_text.lower()\n",
        "    key=key.lower()\n",
        "    \n",
        "    # conditional statements\n",
        "    if(len(plain_text)!=len(key)):\n",
        "        print(\"Lengths are different\")\n",
        "        \n",
        "    else:\n",
        "        cipher_text=\"\"\n",
        "        # iterating through the length\n",
        "        for i in range(len(plain_text)):\n",
        "            k1=ord(plain_text[i])-97\n",
        "            k2=ord(key[i])-97\n",
        "            s=chr(((k1-k2))%26+97)\n",
        "            cipher_text+=s\n",
        "        print(\"Enrypted message is: \",cipher_text)\n",
        "\n",
        "\n",
        "plain_text=input(\"Enter the message: \")\n",
        "key=input(\"Enter the one time pad: \")\n",
        "vernam(plain_text,key)"
      ],
      "metadata": {
        "id": "2mwEuxBRxNi7",
        "colab": {
          "base_uri": "https://localhost:8080/"
        },
        "outputId": "bdb9932b-1f52-453b-afd8-6a8f7a8f2372"
      },
      "execution_count": null,
      "outputs": [
        {
          "output_type": "stream",
          "name": "stdout",
          "text": [
            "Enter the message: pltncoz\n",
            "Enter the one time pad: Axelrod\n",
            "Enrypted message is:  popclaw\n"
          ]
        }
      ]
    },
    {
      "cell_type": "code",
      "source": [],
      "metadata": {
        "id": "6WEEqORi_oPj"
      },
      "execution_count": null,
      "outputs": []
    }
  ]
}